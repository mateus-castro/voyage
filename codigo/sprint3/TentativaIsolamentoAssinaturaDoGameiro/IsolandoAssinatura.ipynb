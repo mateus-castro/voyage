{
  "cells": [
    {
      "cell_type": "code",
      "execution_count": 84,
      "metadata": {
        "id": "lM8M4XUKTXvI"
      },
      "outputs": [],
      "source": [
        "# import the necessary packages\n",
        "from tensorflow.keras.models import load_model\n",
        "from imutils.contours import sort_contours\n",
        "from imutils.object_detection import non_max_suppression\n",
        "from google.colab.patches import cv2_imshow\n",
        "import numpy as np\n",
        "import argparse\n",
        "import imutils\n",
        "import cv2\n",
        "import time\n",
        "import math\n",
        "import os"
      ]
    },
    {
      "cell_type": "code",
      "execution_count": null,
      "metadata": {
        "colab": {
          "base_uri": "https://localhost:8080/"
        },
        "id": "SOS-hnvlpB6R",
        "outputId": "dab86ace-0ee9-4340-dd55-af019423035b"
      },
      "outputs": [
        {
          "name": "stdout",
          "output_type": "stream",
          "text": [
            "[INFO] loading EAST text detector...\n"
          ]
        }
      ],
      "source": [
        "path_modelo = './frozen_east_text_detection.pb'\n",
        "\n",
        "# load the pre-trained EAST text detector\n",
        "print(\"[INFO] loading EAST text detector...\")\n",
        "net = cv2.dnn.readNet(path_modelo)"
      ]
    },
    {
      "cell_type": "code",
      "execution_count": 123,
      "metadata": {
        "id": "3cfqNOpFgTPc"
      },
      "outputs": [],
      "source": [
        "def detec(image, indexFor):\n",
        "\n",
        "  # image = cv2.imread('./img.jpg')\n",
        "  # gray = cv2.cvtColor(image, cv2.COLOR_BGR2GRAY)\n",
        "  # blurred = cv2.GaussianBlur(gray, (5, 5), 0)\n",
        "  # image = cv2.Canny(blurred, 100, 150)\n",
        "\n",
        "  width = 320\n",
        "  height = 320\n",
        "\n",
        "  # load the input image and grab the image dimensions\n",
        "  orig = image.copy()\n",
        "  (H, W) = image.shape[:2]\n",
        "\n",
        "  # set the new width and height and then determine the ratio in change\n",
        "  # for both the width and height\n",
        "  (newW, newH) = (width, height)\n",
        "  rW = W / float(newW)\n",
        "  rH = H / float(newH)\n",
        "\n",
        "  # resize the image and grab the new image dimensions\n",
        "  image = cv2.resize(image, (newW, newH))\n",
        "  (H, W) = image.shape[:2]\n",
        "\n",
        "  layerNames = [\n",
        "    \"feature_fusion/Conv_7/Sigmoid\",\n",
        "    \"feature_fusion/concat_3\"]\n",
        "\n",
        "  # construct a blob from the image and then perform a forward pass of\n",
        "  # the model to obtain the two output layer sets\n",
        "  blob = cv2.dnn.blobFromImage(image, 1.0, (W, H),\n",
        "    (123.68, 116.78, 103.94), swapRB=True, crop=False)\n",
        "  start = time.time()\n",
        "  net.setInput(blob)\n",
        "  (scores, geometry) = net.forward(layerNames)\n",
        "  end = time.time()\n",
        "\n",
        "  # show timing information on text prediction\n",
        "  print(\"[INFO] text detection took {:.6f} seconds\".format(end - start))\n",
        "\n",
        "  # grab the number of rows and columns from the scores volume, then\n",
        "  # initialize our set of bounding box rectangles and corresponding\n",
        "  # confidence scores\n",
        "  (numRows, numCols) = scores.shape[2:4]\n",
        "  rects = []\n",
        "  confidences = []\n",
        "\n",
        "\n",
        "  # loop over the number of rows\n",
        "  for y in range(0, numRows):\n",
        "    # extract the scores (probabilities), followed by the geometrical\n",
        "    # data used to derive potential bounding box coordinates that\n",
        "    # surround text\n",
        "    scoresData = scores[0, 0, y]\n",
        "    xData0 = geometry[0, 0, y]\n",
        "    xData1 = geometry[0, 1, y]\n",
        "    xData2 = geometry[0, 2, y]\n",
        "    xData3 = geometry[0, 3, y]\n",
        "    anglesData = geometry[0, 4, y]\n",
        "\n",
        "    # loop over the number of columns\n",
        "    for x in range(0, numCols):\n",
        "      # if our score does not have sufficient probability, ignore it\n",
        "      #if scoresData[x] < args[\"min_confidence\"]:\n",
        "      if scoresData[x] < 0.3:\n",
        "        continue\n",
        "\n",
        "      # compute the offset factor as our resulting feature maps will\n",
        "      # be 4x smaller than the input image\n",
        "      (offsetX, offsetY) = (x * 4.0, y * 4.0)\n",
        "\n",
        "      # extract the rotation angle for the prediction and then\n",
        "      # compute the sin and cosine\n",
        "      angle = anglesData[x]\n",
        "      cos = np.cos(angle)\n",
        "      sin = np.sin(angle)\n",
        "\n",
        "      # use the geometry volume to derive the width and height of\n",
        "      # the bounding box\n",
        "      h = xData0[x] + xData2[x]\n",
        "      w = xData1[x] + xData3[x]\n",
        "\n",
        "      # compute both the starting and ending (x, y)-coordinates for\n",
        "      # the text prediction bounding box\n",
        "      endX = int(offsetX + (cos * xData1[x]) + (sin * xData2[x]))\n",
        "      endY = int(offsetY - (sin * xData1[x]) + (cos * xData2[x]))\n",
        "      startX = int(endX - w)\n",
        "      startY = int(endY - h)\n",
        "\n",
        "      # add the bounding box coordinates and probability score to\n",
        "      # our respective lists\n",
        "      rects.append((startX, startY, endX, endY))\n",
        "      confidences.append(scoresData[x])\n",
        "\n",
        "  # apply non-maxima suppression to suppress weak, overlapping bounding\n",
        "  # boxes\n",
        "  boxes = non_max_suppression(np.array(rects), probs=confidences)\n",
        "\n",
        "  # Definir as coordenadas do canto inferior esquerdo do quadrante\n",
        "  x_ass = 0  # Coordenada x do canto inferior esquerdo\n",
        "  y_ass = height  # Coordenada y do canto inferior esquerdo\n",
        "  width_ass = width // 3  # Largura do quadrante\n",
        "  height_ass = (height // 1.1)   # Altura do quadrante (quanto maior o divisor, maior a altura. // 4 = altura inteira)\n",
        "\n",
        "  # loop over the bounding boxes\n",
        "  imprimir = False\n",
        "  for (startX, startY, endX, endY) in boxes:\n",
        "    # Verificando se a caixa está dentro do esperado\n",
        "    if (startX >= x_ass and startY <= y_ass and endX <= width_ass and endY >= height_ass):\n",
        "      cv2.rectangle(image, (startX, startY), (endX, endY), (0, 255, 0), 2)\n",
        "      imprimir = True\n",
        "\n",
        "  if imprimir:\n",
        "    # draw the bounding box on the image\n",
        "    print(\"Imprimi a iteração \", indexFor)\n",
        "    cv2.imwrite(\"img_dhr_\"+str(indexFor+\".jpg\", image))\n"
      ]
    },
    {
      "cell_type": "code",
      "execution_count": 127,
      "metadata": {
        "colab": {
          "base_uri": "https://localhost:8080/"
        },
        "id": "3ydNm7SjVLLz",
        "outputId": "74823392-655b-4c5d-b880-35efb8ad4848"
      },
      "outputs": [
        {
          "output_type": "stream",
          "name": "stdout",
          "text": [
            "[INFO] text detection took 0.185591 seconds\n",
            "[INFO] text detection took 0.191520 seconds\n",
            "[INFO] text detection took 0.195657 seconds\n",
            "[INFO] text detection took 0.192313 seconds\n",
            "[INFO] text detection took 0.186212 seconds\n",
            "[INFO] text detection took 0.180766 seconds\n",
            "[INFO] text detection took 0.183488 seconds\n",
            "[INFO] text detection took 0.191018 seconds\n",
            "[INFO] text detection took 0.201333 seconds\n",
            "[INFO] text detection took 0.183649 seconds\n",
            "[INFO] text detection took 0.191425 seconds\n",
            "[INFO] text detection took 0.176449 seconds\n",
            "[INFO] text detection took 0.182346 seconds\n",
            "[INFO] text detection took 0.197761 seconds\n",
            "[INFO] text detection took 0.182847 seconds\n",
            "[INFO] text detection took 0.197680 seconds\n",
            "[INFO] text detection took 0.185277 seconds\n",
            "[INFO] text detection took 0.186023 seconds\n",
            "[INFO] text detection took 0.187983 seconds\n",
            "[INFO] text detection took 0.179447 seconds\n",
            "[INFO] text detection took 0.193994 seconds\n",
            "[INFO] text detection took 0.177033 seconds\n",
            "[INFO] text detection took 0.191790 seconds\n"
          ]
        }
      ],
      "source": [
        "image = cv2.imread('./img.jpg')\n",
        "gray = cv2.cvtColor(image, cv2.COLOR_BGR2GRAY)\n",
        "\n",
        "for i in range(50, 500, 20):\n",
        "\t# Vale tentar aumentar o contraste tbm\n",
        "\tblurred = cv2.GaussianBlur(gray, (9, 9), 0)\n",
        "\tedged = cv2.Canny(blurred, i, i+(i//4)) # pesquisar uma boa proporcao entres os 2 parametros\n",
        "\n",
        "\tcv2.imwrite('quick.jpg', edged)\n",
        "\timg = cv2.imread('quick.jpg')\n",
        "\tdetec(img, i)\n",
        "\tos.remove('./quick.jpg')\n"
      ]
    },
    {
      "cell_type": "code",
      "execution_count": 82,
      "metadata": {
        "colab": {
          "base_uri": "https://localhost:8080/"
        },
        "id": "jXDkujGnqO2z",
        "outputId": "1854a3ce-597b-4adb-a433-40f75dfbbbdd"
      },
      "outputs": [
        {
          "output_type": "stream",
          "name": "stdout",
          "text": [
            "[INFO] text detection took 0.259847 seconds\n"
          ]
        }
      ],
      "source": [
        "detec()"
      ]
    },
    {
      "cell_type": "code",
      "execution_count": 133,
      "metadata": {
        "colab": {
          "base_uri": "https://localhost:8080/",
          "height": 337
        },
        "id": "EVqkSfeqryJG",
        "outputId": "afe36f7c-c12c-44aa-baf2-6812f33ea6a3"
      },
      "outputs": [
        {
          "output_type": "display_data",
          "data": {
            "text/plain": [
              "<PIL.Image.Image image mode=RGB size=320x320 at 0x7AFEE07AA860>"
            ],
            "image/png": "[encoded data removed]"
          },
          "metadata": {}
        }
      ],
      "source": [
        "image = cv2.imread('./img_dhr_210.jpg')\n",
        "\n",
        "cv2_imshow(image)"
      ]
    }
  ],
  "metadata": {
    "colab": {
      "provenance": []
    },
    "kernelspec": {
      "display_name": "Python 3",
      "name": "python3"
    },
    "language_info": {
      "name": "python"
    }
  },
  "nbformat": 4,
  "nbformat_minor": 0
}