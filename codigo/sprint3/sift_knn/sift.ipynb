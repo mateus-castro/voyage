{
 "cells": [
  {
   "cell_type": "code",
   "execution_count": 66,
   "metadata": {},
   "outputs": [
    {
     "ename": "error",
     "evalue": "OpenCV(4.8.0) D:\\a\\opencv-python\\opencv-python\\opencv\\modules\\highgui\\src\\window.cpp:1272: error: (-2:Unspecified error) The function is not implemented. Rebuild the library with Windows, GTK+ 2.x or Cocoa support. If you are on Ubuntu or Debian, install libgtk2.0-dev and pkg-config, then re-run cmake or configure script in function 'cvShowImage'\n",
     "output_type": "error",
     "traceback": [
      "\u001b[1;31m---------------------------------------------------------------------------\u001b[0m",
      "\u001b[1;31merror\u001b[0m                                     Traceback (most recent call last)",
      "\u001b[1;32mc:\\Users\\castr\\codes\\voyage\\codigo\\sprint3\\sift_knn\\sift.ipynb Cell 1\u001b[0m in \u001b[0;36m<module>\u001b[1;34m\u001b[0m\n\u001b[0;32m     <a href='vscode-notebook-cell:/c%3A/Users/castr/codes/voyage/codigo/sprint3/sift_knn/sift.ipynb#W1sZmlsZQ%3D%3D?line=16'>17</a>\u001b[0m keypoints, descriptors \u001b[39m=\u001b[39m sift\u001b[39m.\u001b[39mdetectAndCompute(image, \u001b[39mNone\u001b[39;00m)\n\u001b[0;32m     <a href='vscode-notebook-cell:/c%3A/Users/castr/codes/voyage/codigo/sprint3/sift_knn/sift.ipynb#W1sZmlsZQ%3D%3D?line=18'>19</a>\u001b[0m image_with_keypoints \u001b[39m=\u001b[39m cv2\u001b[39m.\u001b[39mdrawKeypoints(image, keypoints, \u001b[39mNone\u001b[39;00m)\n\u001b[1;32m---> <a href='vscode-notebook-cell:/c%3A/Users/castr/codes/voyage/codigo/sprint3/sift_knn/sift.ipynb#W1sZmlsZQ%3D%3D?line=20'>21</a>\u001b[0m cv2\u001b[39m.\u001b[39;49mimshow(\u001b[39m'\u001b[39;49m\u001b[39mPontos de Interesse\u001b[39;49m\u001b[39m'\u001b[39;49m, image_with_keypoints)\n\u001b[0;32m     <a href='vscode-notebook-cell:/c%3A/Users/castr/codes/voyage/codigo/sprint3/sift_knn/sift.ipynb#W1sZmlsZQ%3D%3D?line=21'>22</a>\u001b[0m cv2\u001b[39m.\u001b[39mwaitKey(\u001b[39m0\u001b[39m)\n\u001b[0;32m     <a href='vscode-notebook-cell:/c%3A/Users/castr/codes/voyage/codigo/sprint3/sift_knn/sift.ipynb#W1sZmlsZQ%3D%3D?line=22'>23</a>\u001b[0m cv2\u001b[39m.\u001b[39mdestroyAllWindows()\n",
      "\u001b[1;31merror\u001b[0m: OpenCV(4.8.0) D:\\a\\opencv-python\\opencv-python\\opencv\\modules\\highgui\\src\\window.cpp:1272: error: (-2:Unspecified error) The function is not implemented. Rebuild the library with Windows, GTK+ 2.x or Cocoa support. If you are on Ubuntu or Debian, install libgtk2.0-dev and pkg-config, then re-run cmake or configure script in function 'cvShowImage'\n"
     ]
    }
   ],
   "source": [
    "import cv2\n",
    "import os\n",
    "import json\n",
    "import matplotlib.pyplot as plt\n",
    "\n",
    "dir = '../cropped_monet_signatures' # signature pictures dir\n",
    "\n",
    "if os.path.isdir(dir):\n",
    "    content = os.listdir(dir)\n",
    "    \n",
    "    for item in content:\n",
    "        if item.find('1.jpg') > 0:\n",
    "            image = cv2.imread(f'{dir}/{item}', cv2.IMREAD_GRAYSCALE)\n",
    "            \n",
    "            # GENERATING :SIFT: METRICS\n",
    "            sift = cv2.SIFT_create()\n",
    "\n",
    "            keypoints, descriptors = sift.detectAndCompute(image, None)\n",
    "\n",
    "            image_with_keypoints = cv2.drawKeypoints(image, keypoints, None)\n",
    "\n",
    "            plt.imshow(image_with_keypoints, cmap='gray')\n",
    "            plt.axis('off')  # Para não mostrar os eixos\n",
    "            plt.show()\n",
    "\n",
    "            # # SAVING .json FILES\n",
    "            # keypoint_list = list(keypoints)\n",
    "\n",
    "            # for i in range(len(keypoint_list)):\n",
    "            #     keypoint_list[i] = str(keypoint_list[i])[15:31]\n",
    "\n",
    "            # payload = {\n",
    "            #     'keypoints': keypoint_list,\n",
    "            #     'descriptors': descriptors.tolist()\n",
    "            # }\n",
    "\n",
    "            # with open(f'{dir}/{item.replace(\".jpg\", \"\")}.json', 'w') as file:\n",
    "            #     json.dump(payload, file)"
   ]
  },
  {
   "cell_type": "code",
   "execution_count": null,
   "metadata": {},
   "outputs": [],
   "source": []
  }
 ],
 "metadata": {
  "kernelspec": {
   "display_name": "Python 3",
   "language": "python",
   "name": "python3"
  },
  "language_info": {
   "codemirror_mode": {
    "name": "ipython",
    "version": 3
   },
   "file_extension": ".py",
   "mimetype": "text/x-python",
   "name": "python",
   "nbconvert_exporter": "python",
   "pygments_lexer": "ipython3",
   "version": "3.9.13"
  },
  "orig_nbformat": 4
 },
 "nbformat": 4,
 "nbformat_minor": 2
}
