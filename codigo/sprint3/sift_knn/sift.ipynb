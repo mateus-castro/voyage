{
 "cells": [
  {
   "cell_type": "code",
   "execution_count": 63,
   "metadata": {},
   "outputs": [],
   "source": [
    "import cv2\n",
    "import os\n",
    "import json\n",
    "\n",
    "dir = '../cropped_monet_signatures' # signature pictures dir\n",
    "\n",
    "if os.path.isdir(dir):\n",
    "    content = os.listdir(dir)\n",
    "    \n",
    "    for item in content:\n",
    "        if item.find('.jpg') > 0:\n",
    "            image = cv2.imread(f'{dir}/{item}', cv2.IMREAD_GRAYSCALE)\n",
    "            \n",
    "            # GENERATING :SIFT: METRICS\n",
    "            sift = cv2.SIFT_create()\n",
    "\n",
    "            keypoints, descriptors = sift.detectAndCompute(image, None)\n",
    "\n",
    "            # SAVING .json FILES\n",
    "            keypoint_list = list(keypoints)\n",
    "\n",
    "            for i in range(len(keypoint_list)):\n",
    "                keypoint_list[i] = str(keypoint_list[i])[15:31]\n",
    "\n",
    "            payload = {\n",
    "                'keypoints': keypoint_list,\n",
    "                'descriptors': descriptors.tolist()\n",
    "            }\n",
    "\n",
    "            with open(f'{dir}/{item.replace(\".jpg\", \"\")}.json', 'w') as file:\n",
    "                json.dump(payload, file)"
   ]
  },
  {
   "cell_type": "code",
   "execution_count": null,
   "metadata": {},
   "outputs": [],
   "source": []
  }
 ],
 "metadata": {
  "kernelspec": {
   "display_name": "Python 3",
   "language": "python",
   "name": "python3"
  },
  "language_info": {
   "codemirror_mode": {
    "name": "ipython",
    "version": 3
   },
   "file_extension": ".py",
   "mimetype": "text/x-python",
   "name": "python",
   "nbconvert_exporter": "python",
   "pygments_lexer": "ipython3",
   "version": "3.9.13"
  },
  "orig_nbformat": 4
 },
 "nbformat": 4,
 "nbformat_minor": 2
}
