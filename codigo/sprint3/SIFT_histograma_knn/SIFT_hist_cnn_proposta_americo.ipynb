{
  "cells": [
    {
      "cell_type": "code",
      "execution_count": 37,
      "metadata": {
        "id": "EYEmcQ0v_ZB6"
      },
      "outputs": [],
      "source": [
        "from sklearn import *\n",
        "import tensorflow as tf\n",
        "from keras.preprocessing.image import ImageDataGenerator\n"
      ]
    },
    {
      "cell_type": "code",
      "execution_count": 38,
      "metadata": {
        "id": "Gch8JTTkhMJ-"
      },
      "outputs": [
        {
          "name": "stdout",
          "output_type": "stream",
          "text": [
            "Found 44 images belonging to 2 classes.\n"
          ]
        }
      ],
      "source": [
        "#Preprocessamento do dataset de treinamento\n",
        "train_datagen = ImageDataGenerator(\n",
        "    rescale=1./255,\n",
        "    shear_range=0.2,\n",
        "    zoom_range=0.2,\n",
        "    horizontal_flip=True\n",
        ")\n",
        "\n",
        "training_set = train_datagen.flow_from_directory(\n",
        "    'Imagens',\n",
        "    target_size=(64, 64),\n",
        "    batch_size=32,\n",
        "    class_mode='binary'\n",
        ")"
      ]
    },
    {
      "cell_type": "code",
      "execution_count": 39,
      "metadata": {},
      "outputs": [
        {
          "name": "stdout",
          "output_type": "stream",
          "text": [
            "Found 44 images belonging to 2 classes.\n"
          ]
        }
      ],
      "source": [
        "#Preprocessamento do dataset de teste\n",
        "test_datagen = ImageDataGenerator(rescale=1./255)\n",
        "test_set = test_datagen.flow_from_directory(\n",
        "    'Imagens',\n",
        "    target_size=(64, 64),\n",
        "    batch_size=32,\n",
        "    class_mode='binary'\n",
        ")"
      ]
    },
    {
      "cell_type": "code",
      "execution_count": 40,
      "metadata": {
        "colab": {
          "base_uri": "https://localhost:8080/",
          "height": 74
        },
        "id": "kUeFj1zZfv4i",
        "outputId": "34d605be-346b-4cad-d742-f6f06b06ac3c"
      },
      "outputs": [],
      "source": [
        "\n",
        "#Inicializando a CNN\n",
        "cnn = tf.keras.models.Sequential()"
      ]
    },
    {
      "cell_type": "code",
      "execution_count": 41,
      "metadata": {},
      "outputs": [],
      "source": [
        "#Passo 1 - Convolution\n",
        "#input_shape só é necessário na primeira camada, ja'que é a camada ao lado da input layer\n",
        "cnn.add(tf.keras.layers.Conv2D(filters=32, kernel_size=3, activation='relu', input_shape=[64, 64, 3]))"
      ]
    },
    {
      "cell_type": "code",
      "execution_count": 42,
      "metadata": {},
      "outputs": [],
      "source": [
        "#Passo 2 - Pooling\n",
        "cnn.add(tf.keras.layers.MaxPool2D(pool_size=2, strides=2))"
      ]
    },
    {
      "cell_type": "code",
      "execution_count": 43,
      "metadata": {},
      "outputs": [],
      "source": [
        "#Passo 3 - Flatenning\n",
        "cnn.add(tf.keras.layers.Flatten())"
      ]
    },
    {
      "cell_type": "code",
      "execution_count": 44,
      "metadata": {},
      "outputs": [],
      "source": [
        "#Passo 4 - Full Connection\n",
        "cnn.add(tf.keras.layers.Dense(units=128, activation='relu'))"
      ]
    },
    {
      "cell_type": "code",
      "execution_count": 45,
      "metadata": {},
      "outputs": [],
      "source": [
        "#Passo 5 - Output layer\n",
        "cnn.add(tf.keras.layers.Dense(units=1, activation='sigmoid'))"
      ]
    },
    {
      "cell_type": "code",
      "execution_count": 46,
      "metadata": {},
      "outputs": [],
      "source": [
        "cnn.compile(optimizer='adam', loss='binary_crossentropy', metrics=['accuracy'])"
      ]
    },
    {
      "cell_type": "code",
      "execution_count": 47,
      "metadata": {},
      "outputs": [
        {
          "name": "stdout",
          "output_type": "stream",
          "text": [
            "Epoch 1/25\n",
            "2/2 [==============================] - 1s 384ms/step - loss: 1.1635 - accuracy: 0.5909 - val_loss: 0.8705 - val_accuracy: 0.4773\n",
            "Epoch 2/25\n",
            "2/2 [==============================] - 0s 240ms/step - loss: 1.2925 - accuracy: 0.4773 - val_loss: 0.5685 - val_accuracy: 0.7045\n",
            "Epoch 3/25\n",
            "2/2 [==============================] - 0s 245ms/step - loss: 0.7250 - accuracy: 0.5909 - val_loss: 0.6557 - val_accuracy: 0.6364\n",
            "Epoch 4/25\n",
            "2/2 [==============================] - 0s 196ms/step - loss: 0.6034 - accuracy: 0.6818 - val_loss: 0.6573 - val_accuracy: 0.6818\n",
            "Epoch 5/25\n",
            "2/2 [==============================] - 0s 259ms/step - loss: 0.6074 - accuracy: 0.7273 - val_loss: 0.4975 - val_accuracy: 0.8182\n",
            "Epoch 6/25\n",
            "2/2 [==============================] - 0s 243ms/step - loss: 0.5093 - accuracy: 0.7273 - val_loss: 0.4793 - val_accuracy: 0.7273\n",
            "Epoch 7/25\n",
            "2/2 [==============================] - 0s 180ms/step - loss: 0.5067 - accuracy: 0.7045 - val_loss: 0.4007 - val_accuracy: 0.8409\n",
            "Epoch 8/25\n",
            "2/2 [==============================] - 0s 203ms/step - loss: 0.4365 - accuracy: 0.7955 - val_loss: 0.5116 - val_accuracy: 0.7500\n",
            "Epoch 9/25\n",
            "2/2 [==============================] - 0s 192ms/step - loss: 0.4374 - accuracy: 0.8409 - val_loss: 0.4447 - val_accuracy: 0.8182\n",
            "Epoch 10/25\n",
            "2/2 [==============================] - 0s 205ms/step - loss: 0.3855 - accuracy: 0.8864 - val_loss: 0.3515 - val_accuracy: 0.8864\n",
            "Epoch 11/25\n",
            "2/2 [==============================] - 0s 239ms/step - loss: 0.3677 - accuracy: 0.8182 - val_loss: 0.3262 - val_accuracy: 0.8864\n",
            "Epoch 12/25\n",
            "2/2 [==============================] - 0s 238ms/step - loss: 0.3473 - accuracy: 0.8409 - val_loss: 0.3090 - val_accuracy: 0.9091\n",
            "Epoch 13/25\n",
            "2/2 [==============================] - 0s 187ms/step - loss: 0.3370 - accuracy: 0.8864 - val_loss: 0.3496 - val_accuracy: 0.8409\n",
            "Epoch 14/25\n",
            "2/2 [==============================] - 0s 259ms/step - loss: 0.3372 - accuracy: 0.8864 - val_loss: 0.3635 - val_accuracy: 0.8182\n",
            "Epoch 15/25\n",
            "2/2 [==============================] - 0s 194ms/step - loss: 0.3026 - accuracy: 0.8864 - val_loss: 0.2836 - val_accuracy: 0.9091\n",
            "Epoch 16/25\n",
            "2/2 [==============================] - 0s 205ms/step - loss: 0.2834 - accuracy: 0.8636 - val_loss: 0.2636 - val_accuracy: 0.9091\n",
            "Epoch 17/25\n",
            "2/2 [==============================] - 0s 214ms/step - loss: 0.2678 - accuracy: 0.9091 - val_loss: 0.2788 - val_accuracy: 0.8864\n",
            "Epoch 18/25\n",
            "2/2 [==============================] - 0s 302ms/step - loss: 0.2352 - accuracy: 0.9091 - val_loss: 0.3160 - val_accuracy: 0.8182\n",
            "Epoch 19/25\n",
            "2/2 [==============================] - 0s 200ms/step - loss: 0.2654 - accuracy: 0.9091 - val_loss: 0.2566 - val_accuracy: 0.8636\n",
            "Epoch 20/25\n",
            "2/2 [==============================] - 0s 232ms/step - loss: 0.2476 - accuracy: 0.9318 - val_loss: 0.2136 - val_accuracy: 0.9091\n",
            "Epoch 21/25\n",
            "2/2 [==============================] - 0s 184ms/step - loss: 0.2369 - accuracy: 0.9318 - val_loss: 0.2435 - val_accuracy: 0.8864\n",
            "Epoch 22/25\n",
            "2/2 [==============================] - 0s 179ms/step - loss: 0.2286 - accuracy: 0.9091 - val_loss: 0.3254 - val_accuracy: 0.8182\n",
            "Epoch 23/25\n",
            "2/2 [==============================] - 0s 204ms/step - loss: 0.2503 - accuracy: 0.9091 - val_loss: 0.1836 - val_accuracy: 0.9091\n",
            "Epoch 24/25\n",
            "2/2 [==============================] - 0s 176ms/step - loss: 0.1734 - accuracy: 0.9545 - val_loss: 0.1650 - val_accuracy: 0.9545\n",
            "Epoch 25/25\n",
            "2/2 [==============================] - 0s 179ms/step - loss: 0.2047 - accuracy: 0.9318 - val_loss: 0.1494 - val_accuracy: 0.9318\n"
          ]
        },
        {
          "data": {
            "text/plain": [
              "<keras.src.callbacks.History at 0x1c8e49c0730>"
            ]
          },
          "execution_count": 47,
          "metadata": {},
          "output_type": "execute_result"
        }
      ],
      "source": [
        "#Treinando a CNN\n",
        "cnn.fit(x=training_set, validation_data=test_set, epochs=25)"
      ]
    },
    {
      "cell_type": "code",
      "execution_count": null,
      "metadata": {},
      "outputs": [],
      "source": [
        "training_set.class_indices"
      ]
    },
    {
      "cell_type": "code",
      "execution_count": 120,
      "metadata": {},
      "outputs": [
        {
          "name": "stdout",
          "output_type": "stream",
          "text": [
            "1/1 [==============================] - 0s 25ms/step\n",
            "1/1 [==============================] - 0s 42ms/step\n",
            "1/1 [==============================] - 0s 37ms/step\n",
            "1/1 [==============================] - 0s 26ms/step\n",
            "1/1 [==============================] - 0s 25ms/step\n",
            "1/1 [==============================] - 0s 23ms/step\n",
            "1/1 [==============================] - 0s 26ms/step\n",
            "1/1 [==============================] - 0s 26ms/step\n",
            "1/1 [==============================] - 0s 24ms/step\n",
            "1/1 [==============================] - 0s 24ms/step\n",
            "1/1 [==============================] - 0s 25ms/step\n",
            "1/1 [==============================] - 0s 24ms/step\n",
            "1/1 [==============================] - 0s 25ms/step\n",
            "1/1 [==============================] - 0s 26ms/step\n",
            "1/1 [==============================] - 0s 26ms/step\n",
            "1/1 [==============================] - 0s 29ms/step\n",
            "1/1 [==============================] - 0s 27ms/step\n",
            "1/1 [==============================] - 0s 26ms/step\n",
            "1/1 [==============================] - 0s 24ms/step\n",
            "1/1 [==============================] - 0s 24ms/step\n",
            "1/1 [==============================] - 0s 28ms/step\n",
            "1/1 [==============================] - 0s 25ms/step\n",
            "1/1 [==============================] - 0s 23ms/step\n",
            "1/1 [==============================] - 0s 24ms/step\n",
            "1/1 [==============================] - 0s 23ms/step\n",
            "1/1 [==============================] - 0s 23ms/step\n",
            "1/1 [==============================] - 0s 24ms/step\n",
            "1/1 [==============================] - 0s 24ms/step\n",
            "1/1 [==============================] - 0s 24ms/step\n",
            "1/1 [==============================] - 0s 24ms/step\n",
            "1/1 [==============================] - 0s 24ms/step\n",
            "1/1 [==============================] - 0s 23ms/step\n",
            "1/1 [==============================] - 0s 23ms/step\n",
            "1/1 [==============================] - 0s 24ms/step\n",
            "1/1 [==============================] - 0s 23ms/step\n",
            "1/1 [==============================] - 0s 23ms/step\n",
            "1/1 [==============================] - 0s 24ms/step\n",
            "1/1 [==============================] - 0s 34ms/step\n",
            "1/1 [==============================] - 0s 23ms/step\n",
            "1/1 [==============================] - 0s 25ms/step\n",
            "1/1 [==============================] - 0s 25ms/step\n",
            "['Humano', 'Humano', 'Humano', 'Humano', 'Humano', 'Humano', 'Humano', 'Humano', 'Humano', 'Humano', 'Humano', 'Humano', 'Humano', 'Humano', 'Humano', 'Humano', 'Humano', 'Humano', 'Humano', 'Humano', 'Humano', 'Humano']\n",
            "['IA', 'IA', 'Humano', 'IA', 'IA', 'IA', 'IA', 'IA', 'IA', 'IA', 'IA', 'IA', 'IA', 'Humano', 'IA', 'IA', 'IA', 'IA', 'IA']\n"
          ]
        }
      ],
      "source": [
        "import numpy as np\n",
        "import keras.utils as image\n",
        "ia = []\n",
        "humano = []\n",
        "\n",
        "for i in range(1, 23):\n",
        "    test_image = image.load_img(f'C:/Users/castr/codes/voyage/codigo/sprint3/SIFT_histograma_knn/Imagens/Humano/{i}.jpg', target_size = (64, 64))\n",
        "    test_image = image.img_to_array(test_image)\n",
        "    test_image = np.expand_dims(test_image, axis = 0)\n",
        "    result = cnn.predict(test_image)\n",
        "\n",
        "    training_set.class_indices\n",
        "    if result[0][0] == 1:\n",
        "        prediction = 'IA'\n",
        "    else:\n",
        "        prediction = 'Humano'\n",
        "\n",
        "    ia.append(prediction)\n",
        "\n",
        "for i in range(1, 20):\n",
        "    test_image = image.load_img(f'C:/Users/castr/codes/voyage/codigo/sprint3/SIFT_histograma_knn/Imagens/IA/{i}.jpg', target_size = (64, 64))\n",
        "    test_image = image.img_to_array(test_image)\n",
        "    test_image = np.expand_dims(test_image, axis = 0)\n",
        "    result = cnn.predict(test_image)\n",
        "\n",
        "    training_set.class_indices\n",
        "    if result[0][0] == 1:\n",
        "        prediction = 'IA'\n",
        "    else:\n",
        "        prediction = 'Humano'\n",
        "\n",
        "    humano.append(prediction)\n",
        "\n",
        "\n",
        "print(ia)\n",
        "print(humano)"
      ]
    },
    {
      "cell_type": "code",
      "execution_count": null,
      "metadata": {
        "id": "xDLaEXB86z5V"
      },
      "outputs": [],
      "source": [
        "# Exportando\n",
        "import pickle\n",
        "\n",
        "pickle.dump(cnn, open(\"./ml_models/CNN_model.pkl\", \"wb\"))"
      ]
    }
  ],
  "metadata": {
    "colab": {
      "provenance": []
    },
    "kernelspec": {
      "display_name": "Python 3",
      "name": "python3"
    },
    "language_info": {
      "codemirror_mode": {
        "name": "ipython",
        "version": 3
      },
      "file_extension": ".py",
      "mimetype": "text/x-python",
      "name": "python",
      "nbconvert_exporter": "python",
      "pygments_lexer": "ipython3",
      "version": "3.9.13"
    }
  },
  "nbformat": 4,
  "nbformat_minor": 0
}
