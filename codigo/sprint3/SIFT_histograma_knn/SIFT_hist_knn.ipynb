{
  "nbformat": 4,
  "nbformat_minor": 0,
  "metadata": {
    "colab": {
      "provenance": []
    },
    "kernelspec": {
      "name": "python3",
      "display_name": "Python 3"
    },
    "language_info": {
      "name": "python"
    }
  },
  "cells": [
    {
      "cell_type": "code",
      "execution_count": 119,
      "metadata": {
        "id": "EYEmcQ0v_ZB6"
      },
      "outputs": [],
      "source": [
        "import cv2\n",
        "import numpy as np\n",
        "import os\n",
        "from sklearn.neighbors import KNeighborsClassifier\n",
        "from sklearn.preprocessing import LabelEncoder\n",
        "from sklearn.model_selection import train_test_split\n",
        "from sklearn.metrics import classification_report\n",
        "from imutils import paths\n",
        "import argparse\n",
        "from google.colab.patches import cv2_imshow\n",
        "import matplotlib.pyplot as plt\n",
        "from sklearn.neighbors import KNeighborsRegressor\n",
        "from sklearn import *"
      ]
    },
    {
      "cell_type": "code",
      "source": [
        "class Preprocessor:\n",
        "\tdef __init__(self, width, height, inter=cv2.INTER_AREA):\n",
        "\t\t# store the target image width, height, and interpolation\n",
        "\t\t# method used when resizing\n",
        "\t\tself.width = width\n",
        "\t\tself.height = height\n",
        "\t\tself.inter = inter\n",
        "\tdef preprocess(self, image):\n",
        "\t\t# resize the image to a fixed size, ignoring the aspect\n",
        "\t\t# ratio\n",
        "\t\treturn cv2.resize(image, (self.width, self.height),\n",
        "\t\t\tinterpolation=self.inter)"
      ],
      "metadata": {
        "id": "wdcIIpbI_jdu"
      },
      "execution_count": null,
      "outputs": []
    },
    {
      "cell_type": "code",
      "source": [
        "class SimplePreprocessorGray:\n",
        "\n",
        "\tdef preprocess(self, image):\n",
        "\t\treturn cv2.cvtColor(image, cv2.COLOR_BGR2GRAY )"
      ],
      "metadata": {
        "id": "VHr74W9e_y8e"
      },
      "execution_count": null,
      "outputs": []
    },
    {
      "cell_type": "code",
      "source": [
        "# Classe para carregar a base de imagens\n",
        "class SimpleDatasetLoader:\n",
        "  def __init__(self, preprocessors=None):\n",
        "    # store the image preprocessor\n",
        "    self.preprocessors = preprocessors\n",
        "\t\t# if the preprocessors are None, initialize them as an\n",
        "\t\t# empty list\n",
        "    if self.preprocessors is None:\n",
        "      self.preprocessors = []\n",
        "\n",
        "  def load(self, imagePaths, verbose=-1):\n",
        "\t\t# initialize the list of features and labels\n",
        "    data = []\n",
        "    labels = []\n",
        "\t\t# loop over the input images\n",
        "    for (i, imagePath) in enumerate(imagePaths):\n",
        "\t\t\t# load the image and extract the class label assuming\n",
        "\t\t\t# that our path has the following format:\n",
        "\t\t\t# /path/to/dataset/{class}/{image}.jpg\n",
        "      image = cv2.imread(imagePath)\n",
        "      label = imagePath.split(os.path.sep)[-2]\n",
        "\n",
        "      \t\t\t# check to see if our preprocessors are not None\n",
        "      if self.preprocessors is not None:\n",
        "\t\t\t\t# loop over the preprocessors and apply each to\n",
        "\t\t\t\t# the image\n",
        "        for p in self.preprocessors:\n",
        "          image = p.preprocess(image)\n",
        "\t\t\t# treat our processed image as a \"feature vector\"\n",
        "\t\t\t# by updating the data list followed by the labels\n",
        "      data.append(image)\n",
        "      labels.append(label)\n",
        "\n",
        "      # show an update every `verbose` images\n",
        "      if verbose > 0 and i > 0 and (i + 1) % verbose == 0:\n",
        "        print(\"[INFO] processed {}/{}\".format(i + 1,\n",
        "\t\t\t\t\tlen(imagePaths)))\n",
        "\t\t# return a tuple of the data and labels\n",
        "    return (np.array(data), np.array(labels))"
      ],
      "metadata": {
        "id": "KeaZV806_4pA"
      },
      "execution_count": null,
      "outputs": []
    },
    {
      "cell_type": "code",
      "source": [
        "# Definindo os parametros\n",
        "class Parametros:\n",
        "  dataset = \"./Imagens\"\n",
        "  neighbors = 1\n",
        "  jobs = -1\n",
        "\n",
        "args = vars(Parametros)"
      ],
      "metadata": {
        "id": "ydyaMiKh__D4"
      },
      "execution_count": 154,
      "outputs": []
    },
    {
      "cell_type": "code",
      "source": [
        "# grab the list of images that we'll be describing\n",
        "print(\"[INFO] loading images...\")\n",
        "imagePaths = list(paths.list_images(args[\"dataset\"]))\n",
        "# initialize the image preprocessor, load the dataset from disk,\n",
        "# and reshape the data matrix\n",
        "sp = Preprocessor(32, 32)\n",
        "spg = SimplePreprocessorGray()\n",
        "sdl = SimpleDatasetLoader(preprocessors=[spg])\n",
        "(data, labels) = sdl.load(imagePaths, verbose=500)\n",
        "#data = data.reshape((data.shape[0], 60200))\n",
        "\n",
        "# show some information on memory consumption of the images\n",
        "print(\"[INFO] features matrix: {:.1f}MB\".format(\n",
        "\tdata.nbytes / (1024 * 1024.0)))"
      ],
      "metadata": {
        "colab": {
          "base_uri": "https://localhost:8080/"
        },
        "id": "EZ73j0s4AeK0",
        "outputId": "c762e5ef-fef9-45cf-d34b-7cb3d0d68055"
      },
      "execution_count": 155,
      "outputs": [
        {
          "output_type": "stream",
          "name": "stdout",
          "text": [
            "[INFO] loading images...\n",
            "[INFO] features matrix: 1.8MB\n"
          ]
        }
      ]
    },
    {
      "cell_type": "code",
      "source": [
        "# Obtendo keypoints das imagens\n",
        "sift = cv2.xfeatures2d.SIFT_create()\n",
        "principais_caracteristicas = []\n",
        "principais_labels = []\n",
        "n_sample = 50 # 50 keypoints de cada img pra tbm nao ficar pesado\n",
        "\n",
        "# For cada imagem\n",
        "for idx, img in enumerate(data):\n",
        "  # pega o sift de cada img\n",
        "  keypoints, descriptors = sift.detectAndCompute(data[idx], None)\n",
        "\n",
        "  principais = descriptors[np.random.randint(descriptors.shape[0], size=n_sample)]\n",
        "\n",
        "  principais_caracteristicas[(idx*n_sample):(idx*n_sample)+n_sample] = principais[:]"
      ],
      "metadata": {
        "id": "SSdO4aOSES1n"
      },
      "execution_count": 156,
      "outputs": []
    },
    {
      "cell_type": "code",
      "source": [
        "# Construindo o vocabulario\n",
        "print(len(data)) # 11 imgs\n",
        "print(len(principais)) # 50 keypoints por imagem\n",
        "print(len(principais_caracteristicas)) # 550 keypoints reunidos\n",
        "\n",
        "vocab_size = len(principais_caracteristicas) // 10 # Vocabulario vai ter 10% das keypoints\n",
        "vocab = KMeans(n_clusters=2).fit(principais_caracteristicas, vocab_size)"
      ],
      "metadata": {
        "colab": {
          "base_uri": "https://localhost:8080/"
        },
        "id": "MbyjqUv7bVf7",
        "outputId": "a5526a12-ef81-4f3c-dbc5-4d1a11cf45b6"
      },
      "execution_count": 157,
      "outputs": [
        {
          "output_type": "stream",
          "name": "stdout",
          "text": [
            "32\n",
            "50\n",
            "1600\n"
          ]
        },
        {
          "output_type": "stream",
          "name": "stderr",
          "text": [
            "/usr/local/lib/python3.10/dist-packages/sklearn/cluster/_kmeans.py:870: FutureWarning: The default value of `n_init` will change from 10 to 'auto' in 1.4. Set the value of `n_init` explicitly to suppress the warning\n",
            "  warnings.warn(\n"
          ]
        }
      ]
    },
    {
      "cell_type": "code",
      "source": [
        "# Obtendo histogramas da base de imgs X vocabulario das principais keypoints\n",
        "\n",
        "histo_list = []\n",
        "\n",
        "# For cada imagem\n",
        "for idx, img in enumerate(data):\n",
        "  # Obtenho novamente os keypoints da img\n",
        "  keypoints, descriptors = sift.detectAndCompute(data[idx], None)\n",
        "\n",
        "  # Verifico como o vocabulario enquadra eles, montando assim o histograma\n",
        "  histo = np.zeros(n_sample)\n",
        "  nkp = np.size(keypoints)\n",
        "\n",
        "  for d in descriptors:\n",
        "      idx = vocab.predict([d])\n",
        "      histo[idx] += 1/nkp # Because we need normalized histograms, I prefere to add 1/nkp directly\n",
        "\n",
        "  histo_list.append(histo)\n",
        "\n",
        "print(\"hist_list: \", len(histo_list))"
      ],
      "metadata": {
        "colab": {
          "base_uri": "https://localhost:8080/"
        },
        "id": "ZBbJPLmAcG6M",
        "outputId": "53be5375-fc93-4554-d2b4-8734ce1b5271"
      },
      "execution_count": 164,
      "outputs": [
        {
          "output_type": "stream",
          "name": "stdout",
          "text": [
            "hist_list:  32\n"
          ]
        }
      ]
    },
    {
      "cell_type": "code",
      "source": [
        "# transforma as categorias em inteiros\n",
        "le = LabelEncoder()\n",
        "labels_number = le.fit_transform(labels)\n",
        "\n",
        "trainX, testX, trainY, testY = train_test_split(histo_list, labels_number, test_size=0.25, random_state=42)"
      ],
      "metadata": {
        "id": "Gch8JTTkhMJ-"
      },
      "execution_count": 165,
      "outputs": []
    },
    {
      "cell_type": "code",
      "source": [
        "print(len(trainX))\n",
        "print(len(trainY))"
      ],
      "metadata": {
        "colab": {
          "base_uri": "https://localhost:8080/"
        },
        "id": "Di9t-jGs0Q6l",
        "outputId": "27f086a9-850f-411a-9072-8fbfba726f23"
      },
      "execution_count": 166,
      "outputs": [
        {
          "output_type": "stream",
          "name": "stdout",
          "text": [
            "24\n",
            "24\n"
          ]
        }
      ]
    },
    {
      "cell_type": "code",
      "source": [
        "# Com esses histogramas, eu treino o meu modelo\n",
        "\n",
        "knn_model = KNeighborsClassifier(n_neighbors=3)\n",
        "knn_model.fit(trainX, trainY)"
      ],
      "metadata": {
        "colab": {
          "base_uri": "https://localhost:8080/",
          "height": 74
        },
        "id": "kUeFj1zZfv4i",
        "outputId": "34d605be-346b-4cad-d742-f6f06b06ac3c"
      },
      "execution_count": 170,
      "outputs": [
        {
          "output_type": "execute_result",
          "data": {
            "text/plain": [
              "KNeighborsClassifier(n_neighbors=3)"
            ],
            "text/html": [
              "<style>#sk-container-id-10 {color: black;background-color: white;}#sk-container-id-10 pre{padding: 0;}#sk-container-id-10 div.sk-toggleable {background-color: white;}#sk-container-id-10 label.sk-toggleable__label {cursor: pointer;display: block;width: 100%;margin-bottom: 0;padding: 0.3em;box-sizing: border-box;text-align: center;}#sk-container-id-10 label.sk-toggleable__label-arrow:before {content: \"▸\";float: left;margin-right: 0.25em;color: #696969;}#sk-container-id-10 label.sk-toggleable__label-arrow:hover:before {color: black;}#sk-container-id-10 div.sk-estimator:hover label.sk-toggleable__label-arrow:before {color: black;}#sk-container-id-10 div.sk-toggleable__content {max-height: 0;max-width: 0;overflow: hidden;text-align: left;background-color: #f0f8ff;}#sk-container-id-10 div.sk-toggleable__content pre {margin: 0.2em;color: black;border-radius: 0.25em;background-color: #f0f8ff;}#sk-container-id-10 input.sk-toggleable__control:checked~div.sk-toggleable__content {max-height: 200px;max-width: 100%;overflow: auto;}#sk-container-id-10 input.sk-toggleable__control:checked~label.sk-toggleable__label-arrow:before {content: \"▾\";}#sk-container-id-10 div.sk-estimator input.sk-toggleable__control:checked~label.sk-toggleable__label {background-color: #d4ebff;}#sk-container-id-10 div.sk-label input.sk-toggleable__control:checked~label.sk-toggleable__label {background-color: #d4ebff;}#sk-container-id-10 input.sk-hidden--visually {border: 0;clip: rect(1px 1px 1px 1px);clip: rect(1px, 1px, 1px, 1px);height: 1px;margin: -1px;overflow: hidden;padding: 0;position: absolute;width: 1px;}#sk-container-id-10 div.sk-estimator {font-family: monospace;background-color: #f0f8ff;border: 1px dotted black;border-radius: 0.25em;box-sizing: border-box;margin-bottom: 0.5em;}#sk-container-id-10 div.sk-estimator:hover {background-color: #d4ebff;}#sk-container-id-10 div.sk-parallel-item::after {content: \"\";width: 100%;border-bottom: 1px solid gray;flex-grow: 1;}#sk-container-id-10 div.sk-label:hover label.sk-toggleable__label {background-color: #d4ebff;}#sk-container-id-10 div.sk-serial::before {content: \"\";position: absolute;border-left: 1px solid gray;box-sizing: border-box;top: 0;bottom: 0;left: 50%;z-index: 0;}#sk-container-id-10 div.sk-serial {display: flex;flex-direction: column;align-items: center;background-color: white;padding-right: 0.2em;padding-left: 0.2em;position: relative;}#sk-container-id-10 div.sk-item {position: relative;z-index: 1;}#sk-container-id-10 div.sk-parallel {display: flex;align-items: stretch;justify-content: center;background-color: white;position: relative;}#sk-container-id-10 div.sk-item::before, #sk-container-id-10 div.sk-parallel-item::before {content: \"\";position: absolute;border-left: 1px solid gray;box-sizing: border-box;top: 0;bottom: 0;left: 50%;z-index: -1;}#sk-container-id-10 div.sk-parallel-item {display: flex;flex-direction: column;z-index: 1;position: relative;background-color: white;}#sk-container-id-10 div.sk-parallel-item:first-child::after {align-self: flex-end;width: 50%;}#sk-container-id-10 div.sk-parallel-item:last-child::after {align-self: flex-start;width: 50%;}#sk-container-id-10 div.sk-parallel-item:only-child::after {width: 0;}#sk-container-id-10 div.sk-dashed-wrapped {border: 1px dashed gray;margin: 0 0.4em 0.5em 0.4em;box-sizing: border-box;padding-bottom: 0.4em;background-color: white;}#sk-container-id-10 div.sk-label label {font-family: monospace;font-weight: bold;display: inline-block;line-height: 1.2em;}#sk-container-id-10 div.sk-label-container {text-align: center;}#sk-container-id-10 div.sk-container {/* jupyter's `normalize.less` sets `[hidden] { display: none; }` but bootstrap.min.css set `[hidden] { display: none !important; }` so we also need the `!important` here to be able to override the default hidden behavior on the sphinx rendered scikit-learn.org. See: https://github.com/scikit-learn/scikit-learn/issues/21755 */display: inline-block !important;position: relative;}#sk-container-id-10 div.sk-text-repr-fallback {display: none;}</style><div id=\"sk-container-id-10\" class=\"sk-top-container\"><div class=\"sk-text-repr-fallback\"><pre>KNeighborsClassifier(n_neighbors=3)</pre><b>In a Jupyter environment, please rerun this cell to show the HTML representation or trust the notebook. <br />On GitHub, the HTML representation is unable to render, please try loading this page with nbviewer.org.</b></div><div class=\"sk-container\" hidden><div class=\"sk-item\"><div class=\"sk-estimator sk-toggleable\"><input class=\"sk-toggleable__control sk-hidden--visually\" id=\"sk-estimator-id-10\" type=\"checkbox\" checked><label for=\"sk-estimator-id-10\" class=\"sk-toggleable__label sk-toggleable__label-arrow\">KNeighborsClassifier</label><div class=\"sk-toggleable__content\"><pre>KNeighborsClassifier(n_neighbors=3)</pre></div></div></div></div></div>"
            ]
          },
          "metadata": {},
          "execution_count": 170
        }
      ]
    },
    {
      "cell_type": "code",
      "source": [
        "print(classification_report(testY, knn_model.predict(testX)))"
      ],
      "metadata": {
        "colab": {
          "base_uri": "https://localhost:8080/"
        },
        "id": "JqiOKGm_iDbl",
        "outputId": "355de181-282d-4145-baf5-ba5a74b408ec"
      },
      "execution_count": 177,
      "outputs": [
        {
          "output_type": "stream",
          "name": "stdout",
          "text": [
            "              precision    recall  f1-score   support\n",
            "\n",
            "           0       0.00      0.00      0.00         2\n",
            "           1       0.67      0.67      0.67         6\n",
            "\n",
            "    accuracy                           0.50         8\n",
            "   macro avg       0.33      0.33      0.33         8\n",
            "weighted avg       0.50      0.50      0.50         8\n",
            "\n"
          ]
        }
      ]
    },
    {
      "cell_type": "code",
      "source": [
        "# Exportando\n",
        "import pickle\n",
        "\n",
        "pickle.dump(vocab, open(\"MontadorHistograma.pkl\", \"wb\"))\n",
        "pickle.dump(knn_model, open(\"LeitorHistograma.pkl\", \"wb\"))"
      ],
      "metadata": {
        "id": "xDLaEXB86z5V"
      },
      "execution_count": 173,
      "outputs": []
    }
  ]
}