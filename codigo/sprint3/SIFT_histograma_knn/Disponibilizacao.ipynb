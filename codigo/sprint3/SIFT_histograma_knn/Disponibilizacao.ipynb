{
  "nbformat": 4,
  "nbformat_minor": 0,
  "metadata": {
    "colab": {
      "provenance": []
    },
    "kernelspec": {
      "name": "python3",
      "display_name": "Python 3"
    },
    "language_info": {
      "name": "python"
    }
  },
  "cells": [
    {
      "cell_type": "code",
      "source": [
        "import cv2\n",
        "import pickle\n",
        "import numpy as np"
      ],
      "metadata": {
        "id": "1gbYUtlb_vhZ"
      },
      "execution_count": 12,
      "outputs": []
    },
    {
      "cell_type": "code",
      "execution_count": 24,
      "metadata": {
        "id": "byZdxZRX-9LZ"
      },
      "outputs": [],
      "source": [
        "class Processador:\n",
        "  def __init__(self, img_path):\n",
        "    self.path = img_path\n",
        "    self.n_sample = 50\n",
        "\n",
        "  def processar(self):\n",
        "    print(\"Abrindo img...\")\n",
        "    image = cv2.imread(self.path)\n",
        "    print(\"Imagem aberta!\")\n",
        "\n",
        "    print(\"Importando modelos...\")\n",
        "    montador_hist = pickle.load(open(\"MontadorHistograma.pkl\", \"rb\"))\n",
        "    leitor_hist = pickle.load(open(\"LeitorHistograma.pkl\", \"rb\"))\n",
        "    print(\"Modelos importados!\")\n",
        "\n",
        "    print(\"Obtendo SIFT...\")\n",
        "    sift = cv2.xfeatures2d.SIFT_create()\n",
        "    keypoints, descriptors = sift.detectAndCompute(image, None)\n",
        "    print(\"SIFT obtido!\")\n",
        "\n",
        "    print(\"Obtendo Histograma...\")\n",
        "    histo = np.zeros(self.n_sample)\n",
        "    nkp = np.size(keypoints)\n",
        "\n",
        "    for d in descriptors:\n",
        "      idx = montador_hist.predict([d])\n",
        "      histo[idx] += 1/nkp\n",
        "    print(\"Histograma obtido!\")\n",
        "\n",
        "    print(\"Analisando Histograma...\")\n",
        "    retorno = leitor_hist.predict([histo])\n",
        "\n",
        "    return retorno"
      ]
    },
    {
      "cell_type": "code",
      "source": [
        "# COMO USAR:\n",
        "\n",
        "process = Processador('./Ass.jpg')\n",
        "retorno = process.processar()\n",
        "print(retorno)"
      ],
      "metadata": {
        "colab": {
          "base_uri": "https://localhost:8080/"
        },
        "id": "1ZBH5UGsA6tg",
        "outputId": "c8bc5e82-087c-47c4-b3f2-232e35e81040"
      },
      "execution_count": 25,
      "outputs": [
        {
          "output_type": "stream",
          "name": "stdout",
          "text": [
            "Abrindo img...\n",
            "Imagem aberta!\n",
            "Importando modelos...\n",
            "Modelos importados!\n",
            "Obtendo SIFT...\n",
            "SIFT obtido!\n",
            "Obtendo Histograma...\n",
            "Histograma obtido!\n",
            "Analisando Histograma...\n",
            "[1]\n"
          ]
        }
      ]
    }
  ]
}