{
  "cells": [
    {
      "cell_type": "code",
      "execution_count": 2,
      "metadata": {
        "id": "1gbYUtlb_vhZ"
      },
      "outputs": [
        {
          "ename": "ModuleNotFoundError",
          "evalue": "No module named 'cv2'",
          "output_type": "error",
          "traceback": [
            "\u001b[1;31m---------------------------------------------------------------------------\u001b[0m",
            "\u001b[1;31mModuleNotFoundError\u001b[0m                       Traceback (most recent call last)",
            "Cell \u001b[1;32mIn[2], line 1\u001b[0m\n\u001b[1;32m----> 1\u001b[0m \u001b[39mimport\u001b[39;00m \u001b[39mcv2\u001b[39;00m\n\u001b[0;32m      2\u001b[0m \u001b[39mimport\u001b[39;00m \u001b[39mpickle\u001b[39;00m\n\u001b[0;32m      3\u001b[0m \u001b[39mimport\u001b[39;00m \u001b[39mnumpy\u001b[39;00m \u001b[39mas\u001b[39;00m \u001b[39mnp\u001b[39;00m\n",
            "\u001b[1;31mModuleNotFoundError\u001b[0m: No module named 'cv2'"
          ]
        }
      ],
      "source": [
        "import cv2\n",
        "import pickle\n",
        "import numpy as np"
      ]
    },
    {
      "cell_type": "code",
      "execution_count": 5,
      "metadata": {
        "id": "byZdxZRX-9LZ"
      },
      "outputs": [],
      "source": [
        "class Processador:\n",
        "  def __init__(self, img_path):\n",
        "    self.path = img_path\n",
        "    self.n_sample = 50\n",
        "\n",
        "  def processar(self):\n",
        "    print(\"Abrindo img...\")\n",
        "    image = cv2.imread(self.path)\n",
        "    print(\"Imagem aberta!\")\n",
        "\n",
        "    print(\"Importando modelos...\")\n",
        "    montador_hist = pickle.load(open(\"MontadorHistograma.pkl\", \"rb\"))\n",
        "    leitor_hist = pickle.load(open(\"LeitorHistograma.pkl\", \"rb\"))\n",
        "    print(\"Modelos importados!\")\n",
        "\n",
        "    print(\"Obtendo SIFT...\")\n",
        "    sift = cv2.SIFT_create()\n",
        "    keypoints, descriptors = sift.detectAndCompute(image, None)\n",
        "    print(\"SIFT obtido!\")\n",
        "\n",
        "    print(\"Obtendo Histograma...\")\n",
        "    histo = np.zeros(self.n_sample)\n",
        "    nkp = np.size(keypoints)\n",
        "\n",
        "    for d in descriptors:\n",
        "      idx = montador_hist.predict([d])\n",
        "      histo[idx] += 1/nkp\n",
        "    print(\"Histograma obtido!\")\n",
        "\n",
        "    print(\"Analisando Histograma...\")\n",
        "    retorno = leitor_hist.predict([histo])\n",
        "\n",
        "    return retorno"
      ]
    },
    {
      "cell_type": "code",
      "execution_count": 6,
      "metadata": {
        "colab": {
          "base_uri": "https://localhost:8080/"
        },
        "id": "1ZBH5UGsA6tg",
        "outputId": "c8bc5e82-087c-47c4-b3f2-232e35e81040"
      },
      "outputs": [
        {
          "name": "stdout",
          "output_type": "stream",
          "text": [
            "Abrindo img...\n",
            "Imagem aberta!\n",
            "Importando modelos...\n",
            "Modelos importados!\n",
            "Obtendo SIFT...\n",
            "SIFT obtido!\n",
            "Obtendo Histograma...\n",
            "Histograma obtido!\n",
            "Analisando Histograma...\n",
            "[1]\n"
          ]
        }
      ],
      "source": [
        "# COMO USAR:\n",
        "\n",
        "process = Processador('./Imagens/Humano/0impress.jpg')\n",
        "retorno = process.processar()\n",
        "print(retorno)"
      ]
    }
  ],
  "metadata": {
    "colab": {
      "provenance": []
    },
    "kernelspec": {
      "display_name": "Python 3",
      "name": "python3"
    },
    "language_info": {
      "codemirror_mode": {
        "name": "ipython",
        "version": 3
      },
      "file_extension": ".py",
      "mimetype": "text/x-python",
      "name": "python",
      "nbconvert_exporter": "python",
      "pygments_lexer": "ipython3",
      "version": "3.9.13"
    }
  },
  "nbformat": 4,
  "nbformat_minor": 0
}
